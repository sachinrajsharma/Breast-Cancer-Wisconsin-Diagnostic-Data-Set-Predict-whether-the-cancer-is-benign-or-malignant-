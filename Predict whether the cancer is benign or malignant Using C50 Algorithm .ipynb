{
 "cells": [
  {
   "cell_type": "markdown",
   "metadata": {},
   "source": [
    "# STEP 1 : Importing Libraries "
   ]
  },
  {
   "cell_type": "code",
   "execution_count": null,
   "metadata": {},
   "outputs": [],
   "source": [
    "library(naniar)\n",
    "library(tidyverse)\n",
    "library(C50)\n",
    "library(ggcorrplot)\n",
    "library(ggplot2)\n",
    "library(caTools)"
   ]
  },
  {
   "cell_type": "markdown",
   "metadata": {},
   "source": [
    "# STEP 2:  Importing Data "
   ]
  },
  {
   "cell_type": "code",
   "execution_count": null,
   "metadata": {},
   "outputs": [],
   "source": [
    "cancer_data <- read.csv(\"breastcancer.csv\")\n",
    "\n",
    "View(cancer_data)"
   ]
  },
  {
   "cell_type": "markdown",
   "metadata": {},
   "source": [
    "# STEP 3 : Checking the missing values in the data  using following three methods : "
   ]
  },
  {
   "cell_type": "markdown",
   "metadata": {},
   "source": [
    "## Method 1 "
   ]
  },
  {
   "cell_type": "code",
   "execution_count": null,
   "metadata": {},
   "outputs": [],
   "source": [
    "sum(is.na(cancer_data)) # checking overall missing values "
   ]
  },
  {
   "cell_type": "markdown",
   "metadata": {},
   "source": [
    "## Method 2"
   ]
  },
  {
   "cell_type": "code",
   "execution_count": null,
   "metadata": {},
   "outputs": [],
   "source": [
    "vis_miss(cancer_data)  # graphical representation of missing values "
   ]
  },
  {
   "cell_type": "markdown",
   "metadata": {},
   "source": [
    "## Method 3 : Checking columnwise missing values "
   ]
  },
  {
   "cell_type": "code",
   "execution_count": null,
   "metadata": {},
   "outputs": [],
   "source": [
    "sapply(cancer_data, function(x)sum(is.na(x)))"
   ]
  },
  {
   "cell_type": "markdown",
   "metadata": {},
   "source": [
    "# STEP 4 : Handling Data "
   ]
  },
  {
   "cell_type": "code",
   "execution_count": null,
   "metadata": {},
   "outputs": [],
   "source": [
    "# We can change the position of diagnosis column at the end to avoid confusion as it is our dependent variable \n",
    "cancer_data <- cancer_data %>% relocate(diagnosis,.after= fractal_dimension_worst)"
   ]
  },
  {
   "cell_type": "markdown",
   "metadata": {},
   "source": [
    "## We can check the correlation between each factors using corrgram  , before this we will use factors on diagnosis to convert into numeric\n",
    "## We need to do feature scaling as well as few column values are too high in comparison to others and \n",
    "## Lets do it on column number 2 to 5 "
   ]
  },
  {
   "cell_type": "code",
   "execution_count": null,
   "metadata": {},
   "outputs": [],
   "source": [
    "cancer_data[, 2:5] <- scale(cancer_data[, 2:5])\n",
    "\n",
    "cancer_data$perimeter_se <- scale(cancer_data$perimeter_se)\n",
    "cancer_data$texture_se <- scale(cancer_data$texture_se)\n",
    "cancer_data$area_se<- scale(cancer_data$area_se)\n",
    "\n",
    "cancer_data[, 22:25] <- scale(cancer_data[, 22:25])\n",
    "\n",
    "colnames(cancer_data)\n",
    "\n",
    "view(cancer_data)\n",
    "\n",
    "\n",
    "cancer_data$diagnosis <- factor(cancer_data$diagnosis, levels = c(\"B\",\"M\"), labels = c(0,1))\n",
    "\n",
    "cancer_data$diagnosis <-as.character(cancer_data$diagnosis)\n",
    "cancer_data$diagnosis <-as.numeric(cancer_data$diagnosis)\n",
    "\n",
    "str(cancer_data)\n",
    "\n",
    "\n",
    "\n",
    "r <- cor(cancer_data, use = \"complete.obs\")\n",
    "round(r,2)\n",
    "\n",
    "ggcorrplot(r)"
   ]
  },
  {
   "cell_type": "markdown",
   "metadata": {},
   "source": [
    "# STEP 4 :  Splitting data into training set and test set "
   ]
  },
  {
   "cell_type": "code",
   "execution_count": null,
   "metadata": {},
   "outputs": [],
   "source": [
    "split_df <- sample.split(cancer_data$diagnosis, SplitRatio = 0.6)\n",
    "\n",
    "train_cancer_df <- subset(cancer_data, split_df == TRUE )\n",
    "test_cancer_df <- subset(cancer_data, split_df == FALSE )\n"
   ]
  },
  {
   "cell_type": "markdown",
   "metadata": {},
   "source": [
    "# STEP 5 : # Preparing the model C50 , converting the diagnosis column in factor again to use this in our model and  Train   Model  using  Train  Set"
   ]
  },
  {
   "cell_type": "code",
   "execution_count": null,
   "metadata": {},
   "outputs": [],
   "source": [
    "train_cancer_df$diagnosis <-as.factor(train_cancer_df$diagnosis)\n",
    "\n",
    "str(train_cancer_df$diagnosis)\n",
    "c50_cancer_df <- C5.0(diagnosis~., data = train_cancer_df)\n",
    "# Plotting the decision tree \n",
    "plot(c50_cancer_df)\n",
    "\n",
    "# View   rules\n",
    "\n",
    "train_cancer_df_rules <- C5.0(diagnosis ~., data = train_cancer_df, rules = TRUE)\n",
    "summary(train_cancer_df_rules)\n"
   ]
  },
  {
   "cell_type": "markdown",
   "metadata": {},
   "source": [
    "# STEP 6 : Evaluating the model performance "
   ]
  },
  {
   "cell_type": "code",
   "execution_count": null,
   "metadata": {},
   "outputs": [],
   "source": [
    "predict_train <-predict(c50_cancer_df,newdata = train_cancer_df, type =  \"class\") \n",
    "\n",
    "head(predict_train)"
   ]
  },
  {
   "cell_type": "markdown",
   "metadata": {},
   "source": [
    "# STEP 7 : Making Confusion Matrix "
   ]
  },
  {
   "cell_type": "code",
   "execution_count": null,
   "metadata": {},
   "outputs": [],
   "source": [
    "cm_train <- table(train_cancer_df[,32], predict_train)\n",
    "\n",
    "cm_train\n",
    "\n",
    "\n",
    "head(train_cancer_df[,32])\n",
    "\n",
    "head(predict_train)\n",
    "\n",
    "\n",
    "# Now making table of confusion matrix with dimension names : \n",
    "\n",
    "table(train_cancer_df[,32], predict_train , dnn =c(\"Observed Class\",\"Predicted Class\"))\n"
   ]
  },
  {
   "cell_type": "markdown",
   "metadata": {},
   "source": [
    "# STEP 8  :Now checking test set results "
   ]
  },
  {
   "cell_type": "code",
   "execution_count": null,
   "metadata": {},
   "outputs": [],
   "source": [
    "\n",
    "predict_test <-predict(c50_cancer_df,newdata = test_cancer_df, type =  \"class\") \n",
    "head(predict_test)\n"
   ]
  },
  {
   "cell_type": "markdown",
   "metadata": {},
   "source": [
    "# STEP 9 : Now making table of confusion matrix with dimension names : "
   ]
  },
  {
   "cell_type": "code",
   "execution_count": null,
   "metadata": {},
   "outputs": [],
   "source": [
    "table(test_cancer_df[,32], predict_test , dnn =c(\"Observed Class\",\"Predicted Class\"))\n",
    "\n",
    "str(test_cancer_df[,32])\n",
    "str(predict_test)\n"
   ]
  },
  {
   "cell_type": "markdown",
   "metadata": {},
   "source": [
    "# CONCLUSION : Accuracy of the model is 95.6 % "
   ]
  }
 ],
 "metadata": {
  "kernelspec": {
   "display_name": "Python 3",
   "language": "python",
   "name": "python3"
  },
  "language_info": {
   "codemirror_mode": {
    "name": "ipython",
    "version": 3
   },
   "file_extension": ".py",
   "mimetype": "text/x-python",
   "name": "python",
   "nbconvert_exporter": "python",
   "pygments_lexer": "ipython3",
   "version": "3.8.5"
  }
 },
 "nbformat": 4,
 "nbformat_minor": 4
}
